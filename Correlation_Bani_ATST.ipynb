{
 "cells": [
  {
   "cell_type": "code",
   "execution_count": 54,
   "metadata": {},
   "outputs": [],
   "source": [
    "%matplotlib inline\n",
    "import numpy as np\n",
    "import pandas as pd\n",
    "import os, glob\n",
    "import matplotlib.pyplot as plt\n",
    "import seaborn as sns\n",
    "import scipy as sp\n",
    "import scipy.fftpack\n",
    "import scipy.stats\n",
    "import scipy.signal\n",
    "\n",
    "file_path = r'D:\\Stations_data\\Bani\\all_months_copy'\n",
    "os.chdir(file_path)"
   ]
  },
  {
   "cell_type": "code",
   "execution_count": 55,
   "metadata": {},
   "outputs": [],
   "source": [
    "df1 = pd.read_csv('till_january.csv', sep = ',') #arse_dates = 'date')\n",
    "\n",
    "df1['date'] = pd.to_datetime(df1.date, format = '%d.%m.%Y %H:%M:%S')\n",
    "df1.set_index('date', inplace = True)\n",
    "df1_1hr = df1.resample('60min').mean()\n",
    "df1_1day = df1.resample('1440min').mean()\n",
    "\n",
    "df2 = pd.read_csv('Rainfall_data_new.csv', sep = ',')\n",
    "df2['Date & Time'] = pd.to_datetime(df2['Date & Time'])#, format = \"%d/%m/%Y - %H:%M:%S\")\n",
    "df2 = df2.set_index('Date & Time')\n",
    "df2_1hr = df2.resample('60min').mean()\n",
    "df2_1hr = df2_1hr.fillna(0.0)\n",
    "\n",
    "df3 = pd.read_csv('Temp_Rain_Bani.csv', sep = ',')\n",
    "df3['Date & Time'] = pd.to_datetime(df3['Date & Time'], format = \"%d/%m/%Y - %H:%M:%S\")\n",
    "df3 = df3.set_index('Date & Time')\n",
    "df3_1hr = df3.resample('60min').mean()"
   ]
  },
  {
   "cell_type": "code",
   "execution_count": 56,
   "metadata": {},
   "outputs": [],
   "source": [
    "# # Pre-Monsoon\n",
    "# date_mask1 = (df1_1hr.index >= '2020-04-13') & (df1_1hr.index < '2020-04-17')\n",
    "# date_mask2 = (df2_1hr.index >= '2020-04-13') & (df2_1hr.index < '2020-04-17')\n",
    "# date_mask3 = (df3_1hr.index >= '2020-04-13') & (df3_1hr.index < '2020-04-17')\n",
    "\n",
    "# # Monsoon\n",
    "# date_mask1 = (df1_1hr.index >= '2020-07-01') & (df1_1hr.index < '2020-07-07')\n",
    "# date_mask2 = (df2_1hr.index >= '2020-07-01') & (df2_1hr.index < '2020-07-07')\n",
    "# date_mask3 = (df3_1hr.index >= '2020-07-01') & (df3_1hr.index < '2020-07-07')\n",
    "\n",
    "# # Post-Monsoon\n",
    "# date_mask1 = (df1_1hr.index >= '2020-10-08') & (df1_1hr.index < '2020-10-14')\n",
    "# date_mask2 = (df2_1hr.index >= '2020-10-08') & (df2_1hr.index < '2020-10-14')\n",
    "# date_mask3 = (df3_1hr.index >= '2020-10-08') & (df3_1hr.index < '2020-10-14')\n",
    "\n",
    "# Winter\n",
    "date_mask1 = (df1_1hr.index >= '2020-12-20') & (df1_1hr.index < '2020-12-26')\n",
    "date_mask2 = (df2_1hr.index >= '2020-12-20') & (df2_1hr.index < '2020-12-26')\n",
    "date_mask3 = (df3_1hr.index >= '2020-12-20') & (df3_1hr.index < '2020-12-26')"
   ]
  },
  {
   "cell_type": "code",
   "execution_count": 57,
   "metadata": {},
   "outputs": [],
   "source": [
    "dfs = [df1_1hr, df2_1hr, df3_1hr]\n",
    "\n",
    "# Extracting the desired slice of Time-Series (Soil-Moisture)\n",
    "SM_sensor1 = df1_1hr['S1SM'].loc[date_mask1]\n",
    "SM_sensor2 = df1_1hr['S2SM'].loc[date_mask1]\n",
    "SM_sensor3 = df1_1hr['S3SM'].loc[date_mask1]\n",
    "SM_sensor4 = df1_1hr['S4SM'].loc[date_mask1]\n",
    "SM_sensor5 = df1_1hr['S5SM'].loc[date_mask1]\n",
    "SM_sensor6 = df1_1hr['S6SM'].loc[date_mask1]\n",
    "SM_sensor7 = df1_1hr['S7SM'].loc[date_mask1]\n",
    "SM_sensor8 = df1_1hr['S8SM'].loc[date_mask1]\n",
    "SM_sensor9 = df1_1hr['S9SM'].loc[date_mask1]\n",
    "SM_sensor10 = df1_1hr['S10SM'].loc[date_mask1]\n",
    "\n",
    "# Extracting the desired slice of Time-Series (Soil-Temperature)\n",
    "ST_sensor1 = df1_1hr['S1Temp'].loc[date_mask1]\n",
    "ST_sensor2 = df1_1hr['S2Temp'].loc[date_mask1]\n",
    "ST_sensor3 = df1_1hr['S3Temp'].loc[date_mask1]\n",
    "ST_sensor4 = df1_1hr['S4Temp'].loc[date_mask1]\n",
    "ST_sensor5 = df1_1hr['S5Temp'].loc[date_mask1]\n",
    "ST_sensor6 = df1_1hr['S6Temp'].loc[date_mask1]\n",
    "ST_sensor7 = df1_1hr['S7Temp'].loc[date_mask1]\n",
    "ST_sensor8 = df1_1hr['S8Temp'].loc[date_mask1]\n",
    "ST_sensor9 = df1_1hr['S9Temp'].loc[date_mask1]\n",
    "ST_sensor10 = df1_1hr['S10Temp'].loc[date_mask1]\n",
    "\n",
    "# Extracting the desired slice of Time-Series (Rain-Fall)\n",
    "Rainfall = df2_1hr['Int_Rainfall (mm)'].loc[date_mask2]\n",
    "\n",
    "# Extracting the desired slice of Time-Series (Air-Temperature)\n",
    "Air_Temp = df3_1hr['Temp (0C)'].loc[date_mask3]"
   ]
  },
  {
   "cell_type": "code",
   "execution_count": 58,
   "metadata": {},
   "outputs": [],
   "source": [
    "SM_sensor1 = SM_sensor1.interpolate(method= 'quadratic')\n",
    "SM_sensor2 = SM_sensor2.interpolate(method= 'quadratic')\n",
    "SM_sensor3 = SM_sensor3.interpolate(method= 'quadratic')\n",
    "SM_sensor4 = SM_sensor4.interpolate(method= 'quadratic')\n",
    "SM_sensor5 = SM_sensor5.interpolate(method= 'quadratic')\n",
    "SM_sensor6 = SM_sensor6.interpolate(method= 'quadratic')\n",
    "SM_sensor7 = SM_sensor7.interpolate(method= 'quadratic')\n",
    "SM_sensor8 = SM_sensor8.interpolate(method= 'quadratic')\n",
    "SM_sensor9 = SM_sensor9.interpolate(method= 'quadratic')\n",
    "SM_sensor10 = SM_sensor10.interpolate(method= 'quadratic')\n",
    "\n",
    "ST_sensor1 = ST_sensor1.interpolate(method= 'quadratic')\n",
    "ST_sensor2 = ST_sensor2.interpolate(method= 'quadratic')\n",
    "ST_sensor3 = ST_sensor3.interpolate(method= 'quadratic')\n",
    "ST_sensor4 = ST_sensor4.interpolate(method= 'quadratic')\n",
    "ST_sensor5 = ST_sensor5.interpolate(method= 'quadratic')\n",
    "ST_sensor6 = ST_sensor6.interpolate(method= 'quadratic')\n",
    "ST_sensor7 = ST_sensor7.interpolate(method= 'quadratic')\n",
    "ST_sensor8 = ST_sensor8.interpolate(method= 'quadratic')\n",
    "ST_sensor9 = ST_sensor9.interpolate(method= 'quadratic')\n",
    "ST_sensor10 = ST_sensor10.interpolate(method= 'quadratic')\n",
    "\n",
    "Air_Temp = Air_Temp.interpolate(method= 'quadratic')"
   ]
  },
  {
   "cell_type": "code",
   "execution_count": 59,
   "metadata": {},
   "outputs": [
    {
     "name": "stdout",
     "output_type": "stream",
     "text": [
      "############ Air Temp. ############\n",
      "ADF Statistics: -4.230148\n",
      "p-value: 0.000586\n",
      "Critical Values:\n",
      "\t1%: -3.482\n",
      "\t5%: -2.884\n",
      "\t10%: -2.579\n",
      "Reject Ho - Time Series is Stationary\n"
     ]
    }
   ],
   "source": [
    "import statsmodels.api as sm\n",
    "from statsmodels.tsa.stattools import adfuller\n",
    "\n",
    "print('############ Air Temp. ############')\n",
    "AT_1 = Air_Temp.values\n",
    "result_AT = adfuller(AT_1)\n",
    "print('ADF Statistics: %f' % result_AT[0])\n",
    "print('p-value: %f' % result_AT[1])\n",
    "print('Critical Values:')\n",
    "for key, value in result_AT[4].items():\n",
    "    print('\\t%s: %.3f' % (key, value))\n",
    "    \n",
    "if result_AT[0] < result_AT[4][\"5%\"]:\n",
    "    print(\"Reject Ho - Time Series is Stationary\")\n",
    "else:\n",
    "    print(\"Failed to Reject Ho - Time Series is Non-Stationary\")"
   ]
  },
  {
   "cell_type": "code",
   "execution_count": 60,
   "metadata": {},
   "outputs": [
    {
     "name": "stdout",
     "output_type": "stream",
     "text": [
      "-#-#-#-#-#-#-#-#-#-# { Soil Temperature} #-#-#-#-#-#-#-#-#-#-\n",
      "############ Sensor - 1 ############\n",
      "ADF Statistics: -6.402814\n",
      "p-value: 0.000000\n",
      "Critical Values:\n",
      "\t1%: -3.479\n",
      "\t5%: -2.883\n",
      "\t10%: -2.578\n",
      "Reject Ho - Time Series is Stationary\n",
      "############ Sensor - 5 ############\n",
      "ADF Statistics: -4.209129\n",
      "p-value: 0.000636\n",
      "Critical Values:\n",
      "\t1%: -3.481\n",
      "\t5%: -2.884\n",
      "\t10%: -2.579\n",
      "Reject Ho - Time Series is Stationary\n",
      "############ Sensor - 7 ############\n",
      "ADF Statistics: -1.391467\n",
      "p-value: 0.586360\n",
      "Critical Values:\n",
      "\t1%: -3.482\n",
      "\t5%: -2.884\n",
      "\t10%: -2.579\n",
      "Failed to Reject Ho - Time Series is Non-Stationary\n",
      "############ Sensor - 9 ############\n"
     ]
    }
   ],
   "source": [
    "# Null - Hypothesis test for Sensor-1 Soil Moisture\n",
    "print('-#-#-#-#-#-#-#-#-#-# { Soil Temperature} #-#-#-#-#-#-#-#-#-#-')\n",
    "print('############ Sensor - 1 ############')\n",
    "S1_ST = ST_sensor1.values\n",
    "result_S1_ST = adfuller(S1_ST)\n",
    "print('ADF Statistics: %f' % result_S1_ST[0])\n",
    "print('p-value: %f' % result_S1_ST[1])\n",
    "print('Critical Values:')\n",
    "for key, value in result_S1_ST[4].items():\n",
    "    print('\\t%s: %.3f' % (key, value))\n",
    "    \n",
    "if result_S1_ST[0] < result_S1_ST[4][\"5%\"]:\n",
    "    print(\"Reject Ho - Time Series is Stationary\")\n",
    "else:\n",
    "    print(\"Failed to Reject Ho - Time Series is Non-Stationary\")\n",
    "    \n",
    "    \n",
    "# Null - Hypothesis test for Sensor-5 Soil Moisture\n",
    "print('############ Sensor - 5 ############')\n",
    "S5_ST = ST_sensor5.values\n",
    "result_S5_ST = adfuller(S5_ST)\n",
    "print('ADF Statistics: %f' % result_S5_ST[0])\n",
    "print('p-value: %f' % result_S5_ST[1])\n",
    "print('Critical Values:')\n",
    "for key, value in result_S5_ST[4].items():\n",
    "    print('\\t%s: %.3f' % (key, value))\n",
    "    \n",
    "if result_S5_ST[0] < result_S5_ST[4][\"5%\"]:\n",
    "    print(\"Reject Ho - Time Series is Stationary\")\n",
    "else:\n",
    "    print(\"Failed to Reject Ho - Time Series is Non-Stationary\")\n",
    "    \n",
    "    \n",
    "# Null - Hypothesis test for Sensor-7 Soil Moisture\n",
    "print('############ Sensor - 7 ############')\n",
    "S7_ST = ST_sensor7.values\n",
    "result_S7_ST = adfuller(S7_ST)\n",
    "print('ADF Statistics: %f' % result_S7_ST[0])\n",
    "print('p-value: %f' % result_S7_ST[1])\n",
    "print('Critical Values:')\n",
    "for key, value in result_S7_ST[4].items():\n",
    "    print('\\t%s: %.3f' % (key, value))\n",
    "    \n",
    "if result_S7_ST[0] < result_S7_ST[4][\"5%\"]:\n",
    "    print(\"Reject Ho - Time Series is Stationary\")\n",
    "else:\n",
    "    print(\"Failed to Reject Ho - Time Series is Non-Stationary\")\n",
    "    \n",
    "    \n",
    "# Null - Hypothesis test for Sensor-9 Soil Moisture\n",
    "print('############ Sensor - 9 ############')\n",
    "# S9_ST = ST_sensor9.values\n",
    "# result_S9_ST = adfuller(S9_ST)\n",
    "# print('ADF Statistics: %f' % result_S9_ST[0])\n",
    "# print('p-value: %f' % result_S9_ST[1])\n",
    "# print('Critical Values:')\n",
    "# for key, value in result_S9_ST[4].items():\n",
    "#     print('\\t%s: %.3f' % (key, value))\n",
    "    \n",
    "# if result_S9_ST[0] < result_S9_ST[4][\"5%\"]:\n",
    "#     print(\"Reject Ho - Time Series is Stationary\")\n",
    "# else:\n",
    "#     print(\"Failed to Reject Ho - Time Series is Non-Stationary\")"
   ]
  },
  {
   "cell_type": "code",
   "execution_count": 61,
   "metadata": {},
   "outputs": [],
   "source": [
    "## Stationarity check after first order differencing"
   ]
  },
  {
   "cell_type": "code",
   "execution_count": 62,
   "metadata": {},
   "outputs": [
    {
     "name": "stdout",
     "output_type": "stream",
     "text": [
      "############ Air Temp ############\n",
      "ADF Statistics: -10.423588\n",
      "p-value: 0.000000\n",
      "Critical Values:\n",
      "\t1%: -3.483\n",
      "\t5%: -2.884\n",
      "\t10%: -2.579\n",
      "Reject Ho - Time Series is Stationary\n"
     ]
    },
    {
     "data": {
      "image/png": "[encoded data removed]",
      "text/plain": [
       "<Figure size 432x288 with 1 Axes>"
      ]
     },
     "metadata": {
      "needs_background": "light"
     },
     "output_type": "display_data"
    }
   ],
   "source": [
    "# Differencing to make the Non-stationary time-series into stationaty\n",
    "\n",
    "# def differncing ():\n",
    "#     for i in \n",
    "print('############ Air Temp ############')\n",
    "AT_Diff = np.diff(Air_Temp)\n",
    "result_AT_2 = adfuller(AT_Diff)\n",
    "print('ADF Statistics: %f' % result_AT_2[0])\n",
    "print('p-value: %f' % result_AT_2[1])\n",
    "print('Critical Values:')\n",
    "for key, value in result_AT_2[4].items():\n",
    "    print('\\t%s: %.3f' % (key, value))\n",
    "    \n",
    "if result_AT_2[0] < result_AT_2[4][\"5%\"]:\n",
    "    print(\"Reject Ho - Time Series is Stationary\")\n",
    "else:\n",
    "    print(\"Failed to Reject Ho - Time Series is Non-Stationary\")\n",
    "    \n",
    "plt.plot(AT_Diff);"
   ]
  },
  {
   "cell_type": "code",
   "execution_count": 63,
   "metadata": {},
   "outputs": [
    {
     "name": "stdout",
     "output_type": "stream",
     "text": [
      "############ Sensor - 1 ############\n",
      "ADF Statistics: -8.336471\n",
      "p-value: 0.000000\n",
      "Critical Values:\n",
      "\t1%: -3.483\n",
      "\t5%: -2.884\n",
      "\t10%: -2.579\n",
      "Reject Ho - Time Series is Stationary\n",
      "############ Sensor - 5 ############\n",
      "ADF Statistics: -5.903036\n",
      "p-value: 0.000000\n",
      "Critical Values:\n",
      "\t1%: -3.480\n",
      "\t5%: -2.883\n",
      "\t10%: -2.578\n",
      "Reject Ho - Time Series is Stationary\n",
      "############ Sensor - 7 ############\n",
      "ADF Statistics: -7.273564\n",
      "p-value: 0.000000\n",
      "Critical Values:\n",
      "\t1%: -3.483\n",
      "\t5%: -2.884\n",
      "\t10%: -2.579\n",
      "Reject Ho - Time Series is Stationary\n",
      "############ Sensor - 9 ############\n"
     ]
    }
   ],
   "source": [
    "# # Differencing to make the Non-stationary time-series into stationaty\n",
    "\n",
    "# # def differncing ():\n",
    "# #     for i in \n",
    "# print('-#-#-#-#-#-#-#-#-#-# { Soil Temperature} #-#-#-#-#-#-#-#-#-#-')\n",
    "print('############ Sensor - 1 ############')\n",
    "S1_ST_Diff = np.diff(ST_sensor1)\n",
    "len(S1_ST_Diff)\n",
    "\n",
    "result_S1_ST = adfuller(S1_ST_Diff)\n",
    "print('ADF Statistics: %f' % result_S1_ST[0])\n",
    "print('p-value: %f' % result_S1_ST[1])\n",
    "print('Critical Values:')\n",
    "for key, value in result_S1_ST[4].items():\n",
    "    print('\\t%s: %.3f' % (key, value))\n",
    "    \n",
    "if result_S1_ST[0] < result_S1_ST[4][\"5%\"]:\n",
    "    print(\"Reject Ho - Time Series is Stationary\")\n",
    "else:\n",
    "    print(\"Failed to Reject Ho - Time Series is Non-Stationary\")\n",
    "    \n",
    "print('############ Sensor - 5 ############')\n",
    "S5_ST_Diff = np.diff(ST_sensor5)\n",
    "len(S5_ST_Diff)\n",
    "\n",
    "result_S5_ST = adfuller(S5_ST_Diff)\n",
    "print('ADF Statistics: %f' % result_S5_ST[0])\n",
    "print('p-value: %f' % result_S5_ST[1])\n",
    "print('Critical Values:')\n",
    "for key, value in result_S5_ST[4].items():\n",
    "    print('\\t%s: %.3f' % (key, value))\n",
    "    \n",
    "if result_S5_ST[0] < result_S5_ST[4][\"5%\"]:\n",
    "    print(\"Reject Ho - Time Series is Stationary\")\n",
    "else:\n",
    "    print(\"Failed to Reject Ho - Time Series is Non-Stationary\")\n",
    "    \n",
    "    \n",
    "print('############ Sensor - 7 ############')\n",
    "S7_ST_Diff = np.diff(ST_sensor7)\n",
    "len(S7_ST_Diff)\n",
    "\n",
    "result_S7_ST = adfuller(S7_ST_Diff)\n",
    "print('ADF Statistics: %f' % result_S7_ST[0])\n",
    "print('p-value: %f' % result_S7_ST[1])\n",
    "print('Critical Values:')\n",
    "for key, value in result_S7_ST[4].items():\n",
    "    print('\\t%s: %.3f' % (key, value))\n",
    "    \n",
    "if result_S7_ST[0] < result_S7_ST[4][\"5%\"]:\n",
    "    print(\"Reject Ho - Time Series is Stationary\")\n",
    "else:\n",
    "    print(\"Failed to Reject Ho - Time Series is Non-Stationary\")\n",
    "    \n",
    "    \n",
    "print('############ Sensor - 9 ############')\n",
    "# S9_ST_Diff = np.diff(ST_sensor9)\n",
    "# len(S9_ST_Diff)\n",
    "\n",
    "# result_S9_ST = adfuller(S9_ST_Diff)\n",
    "# print('ADF Statistics: %f' % result_S9_ST[0])\n",
    "# print('p-value: %f' % result_S9_ST[1])\n",
    "# print('Critical Values:')\n",
    "# for key, value in result_S9_ST[4].items():\n",
    "#     print('\\t%s: %.3f' % (key, value))\n",
    "    \n",
    "# if result_S9_ST[0] < result_S9_ST[4][\"5%\"]:\n",
    "#     print(\"Reject Ho - Time Series is Stationary\")\n",
    "# else:\n",
    "#     print(\"Failed to Reject Ho - Time Series is Non-Stationary\")\n",
    "###############"
   ]
  },
  {
   "cell_type": "code",
   "execution_count": 64,
   "metadata": {},
   "outputs": [
    {
     "name": "stdout",
     "output_type": "stream",
     "text": [
      "(0.3592194366564993, 1.0533952190668587e-05)\n",
      "(-0.5062479477592194, 1.1165177739542735e-10)\n",
      "(-0.08872142020561202, 0.2920102844411745)\n"
     ]
    }
   ],
   "source": [
    "AT_d1 = pd.Series(AT_Diff)\n",
    "\n",
    "S1_d2 = pd.Series(S1_ST_Diff)\n",
    "S5_d2 = pd.Series(S5_ST_Diff)\n",
    "S7_d2 = pd.Series(S7_ST_Diff)\n",
    "# S9_d2 = pd.Series(S9_ST_Diff)\n",
    "\n",
    "S1_correlation = scipy.stats.pearsonr(AT_d1, S1_d2)\n",
    "S5_correlation = scipy.stats.pearsonr(AT_d1, S5_d2)\n",
    "S7_correlation = scipy.stats.pearsonr(AT_d1, S7_d2)\n",
    "# S9_correlation = scipy.stats.pearsonr(AT_d1, S9_d2)\n",
    "\n",
    "print(S1_correlation)\n",
    "print(S5_correlation)\n",
    "print(S7_correlation)\n",
    "# print(S9_correlation)"
   ]
  },
  {
   "cell_type": "code",
   "execution_count": 69,
   "metadata": {},
   "outputs": [
    {
     "name": "stdout",
     "output_type": "stream",
     "text": [
      "(-0.43147840959433253, 6.691271529522176e-08)\n"
     ]
    }
   ],
   "source": [
    "S1_corr = scipy.stats.pearsonr(Air_Temp, ST_sensor5)\n",
    "print(S1_corr)"
   ]
  },
  {
   "cell_type": "code",
   "execution_count": 66,
   "metadata": {},
   "outputs": [
    {
     "data": {
      "image/png": "[encoded data removed]",
      "text/plain": [
       "<Figure size 432x288 with 1 Axes>"
      ]
     },
     "metadata": {
      "needs_background": "light"
     },
     "output_type": "display_data"
    }
   ],
   "source": [
    "plt.scatter(SM_sensor1, ST_sensor1);"
   ]
  },
  {
   "cell_type": "code",
   "execution_count": 67,
   "metadata": {},
   "outputs": [
    {
     "ename": "NameError",
     "evalue": "name 'S1_d1' is not defined",
     "output_type": "error",
     "traceback": [
      "\u001b[1;31m---------------------------------------------------------------------------\u001b[0m",
      "\u001b[1;31mNameError\u001b[0m                                 Traceback (most recent call last)",
      "\u001b[1;32m<ipython-input-67-6def010b5b64>\u001b[0m in \u001b[0;36m<module>\u001b[1;34m\u001b[0m\n\u001b[1;32m----> 1\u001b[1;33m \u001b[0mplt\u001b[0m\u001b[1;33m.\u001b[0m\u001b[0mscatter\u001b[0m\u001b[1;33m(\u001b[0m\u001b[0mS1_d1\u001b[0m\u001b[1;33m,\u001b[0m \u001b[0mS1_d2\u001b[0m\u001b[1;33m)\u001b[0m\u001b[1;33m;\u001b[0m\u001b[1;33m\u001b[0m\u001b[1;33m\u001b[0m\u001b[0m\n\u001b[0m",
      "\u001b[1;31mNameError\u001b[0m: name 'S1_d1' is not defined"
     ]
    }
   ],
   "source": [
    "plt.scatter(S1_d1, S1_d2);"
   ]
  },
  {
   "cell_type": "code",
   "execution_count": null,
   "metadata": {},
   "outputs": [],
   "source": []
  }
 ],
 "metadata": {
  "kernelspec": {
   "display_name": "Python 3",
   "language": "python",
   "name": "python3"
  },
  "language_info": {
   "codemirror_mode": {
    "name": "ipython",
    "version": 3
   },
   "file_extension": ".py",
   "mimetype": "text/x-python",
   "name": "python",
   "nbconvert_exporter": "python",
   "pygments_lexer": "ipython3",
   "version": "3.8.5"
  }
 },
 "nbformat": 4,
 "nbformat_minor": 4
}
